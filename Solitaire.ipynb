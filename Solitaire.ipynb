{
 "cells": [
  {
   "cell_type": "code",
   "execution_count": 4,
   "id": "2f8ebb7b-e051-4745-bf55-4af43c04987e",
   "metadata": {},
   "outputs": [
    {
     "name": "stdout",
     "output_type": "stream",
     "text": [
      "Collecting U\n",
      "  Downloading u-0.1-py3-none-any.whl.metadata (864 bytes)\n",
      "Collecting pygame\n",
      "  Downloading pygame-2.5.2-cp311-cp311-macosx_11_0_arm64.whl.metadata (13 kB)\n",
      "Requirement already satisfied: typing-extensions in ./anaconda3/lib/python3.11/site-packages (from U) (4.11.0)\n",
      "Downloading u-0.1-py3-none-any.whl (11 kB)\n",
      "Downloading pygame-2.5.2-cp311-cp311-macosx_11_0_arm64.whl (12.2 MB)\n",
      "\u001b[2K   \u001b[90m━━━━━━━━━━━━━━━━━━━━━━━━━━━━━━━━━━━━━━━━\u001b[0m \u001b[32m12.2/12.2 MB\u001b[0m \u001b[31m12.7 MB/s\u001b[0m eta \u001b[36m0:00:00\u001b[0m00:01\u001b[0m00:01\u001b[0m\n",
      "\u001b[?25hInstalling collected packages: U, pygame\n",
      "Successfully installed U-0.1 pygame-2.5.2\n"
     ]
    }
   ],
   "source": [
    "! pip3 install U pygame --user\n"
   ]
  },
  {
   "cell_type": "code",
   "execution_count": 10,
   "id": "63118b04-4a01-4afb-aac5-32c83f676658",
   "metadata": {},
   "outputs": [],
   "source": [
    "import pygame\n",
    "pygame.init()\n",
    "screen = pygame.display.set_mode((1280, 720))\n",
    "clock = pygame.time.Clock()"
   ]
  },
  {
   "cell_type": "code",
   "execution_count": null,
   "id": "3c52bef3-9c6c-49b5-8ce0-c2243dd72eb8",
   "metadata": {},
   "outputs": [],
   "source": [
    "pygame.image.load(cards_img/'2"
   ]
  },
  {
   "cell_type": "code",
   "execution_count": null,
   "id": "bb0a3f33-ca6d-48d7-86c2-f32ec3aeed2b",
   "metadata": {},
   "outputs": [],
   "source": [
    "class Card:\n",
    "    \n",
    "    \n",
    "    def __init__(self, rank, suit):\n",
    "        self.rank = rank.title()\n",
    "        self.suit = suit.title()\n",
    "        if self.suit == \"Spades\":\n",
    "            self.suit = self.suit + \" \\U00002660\"\n",
    "        if self.suit == \"Hearts\":\n",
    "            self.suit = self.suit + \" \\U00002665\"\n",
    "        if self.suit == \"Diamonds\":\n",
    "            self.suit = self.suit + \" \\U00002666\"\n",
    "        if self.suit== \"Clubs\":\n",
    "            self.suit = self.suit + \" \\U00002663\"\n",
    "        rank_to_value = dict(zip(['Two','Three','Four','Five','Six','Seven','Eight', 'Nine', 'Ten', 'Jack', 'Queen', 'King', 'Ace']\n",
    ",[2,3,4,5,6,7,8,9,10,10,10,10,11]))\n",
    "        self.value = rank_to_value[self.rank]\n",
    "\n",
    "        \n",
    "    def __str__(self):\n",
    "        return f'{self.rank} of {self.suit}'\n",
    "    \n",
    "    \n",
    "    def __repr__(self):\n",
    "        return f'{self.rank, self.suit, self.value}'"
   ]
  }
 ],
 "metadata": {
  "kernelspec": {
   "display_name": "Python 3 (ipykernel)",
   "language": "python",
   "name": "python3"
  },
  "language_info": {
   "codemirror_mode": {
    "name": "ipython",
    "version": 3
   },
   "file_extension": ".py",
   "mimetype": "text/x-python",
   "name": "python",
   "nbconvert_exporter": "python",
   "pygments_lexer": "ipython3",
   "version": "3.11.8"
  }
 },
 "nbformat": 4,
 "nbformat_minor": 5
}
